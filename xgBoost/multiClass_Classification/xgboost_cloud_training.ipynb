{
 "cells": [
  {
   "cell_type": "code",
   "execution_count": 1,
   "id": "d0c9b64e",
   "metadata": {},
   "outputs": [
    {
     "name": "stdout",
     "output_type": "stream",
     "text": [
      "sagemaker.config INFO - Not applying SDK defaults from location: /etc/xdg/sagemaker/config.yaml\n",
      "sagemaker.config INFO - Not applying SDK defaults from location: /home/ec2-user/.config/sagemaker/config.yaml\n"
     ]
    }
   ],
   "source": [
    "import numpy as np\n",
    "import pandas as pd\n",
    "\n",
    "# Define IAM role\n",
    "import boto3\n",
    "import re\n",
    "import sagemaker\n",
    "from sagemaker import get_execution_role"
   ]
  },
  {
   "cell_type": "code",
   "execution_count": 2,
   "id": "07e0f779",
   "metadata": {},
   "outputs": [],
   "source": [
    "bucket_name = 'swati-ml-sagemaker'\n",
    "training_file_key = 'iris/iris_train.csv'\n",
    "validation_file_key = 'iris/iris_validation.csv'\n",
    "\n",
    "s3_model_output_location = r's3://{0}/iris/model'.format(bucket_name)\n",
    "s3_training_file_location = r's3://{0}/{1}'.format(bucket_name,training_file_key)\n",
    "s3_validation_file_location = r's3://{0}/{1}'.format(bucket_name,validation_file_key)"
   ]
  },
  {
   "cell_type": "code",
   "execution_count": 3,
   "id": "634b1093",
   "metadata": {},
   "outputs": [
    {
     "name": "stdout",
     "output_type": "stream",
     "text": [
      "s3://swati-ml-sagemaker/iris/model\n",
      "s3://swati-ml-sagemaker/iris/iris_train.csv\n",
      "s3://swati-ml-sagemaker/iris/iris_validation.csv\n"
     ]
    }
   ],
   "source": [
    "print(s3_model_output_location)\n",
    "print(s3_training_file_location)\n",
    "print(s3_validation_file_location)"
   ]
  },
  {
   "cell_type": "code",
   "execution_count": 4,
   "id": "0b19b3a7",
   "metadata": {},
   "outputs": [],
   "source": [
    "def write_to_s3(filename, bucket, key):\n",
    "    with open(filename,'rb') as f: # Read in binary mode\n",
    "        return boto3.Session().resource('s3').Bucket(bucket).Object(key).upload_fileobj(f)"
   ]
  },
  {
   "cell_type": "code",
   "execution_count": 5,
   "id": "bce9eca1",
   "metadata": {},
   "outputs": [],
   "source": [
    "write_to_s3('iris_train.csv',bucket_name,training_file_key)\n",
    "write_to_s3('iris_validation.csv',bucket_name,validation_file_key)"
   ]
  },
  {
   "cell_type": "code",
   "execution_count": 6,
   "id": "43852002",
   "metadata": {},
   "outputs": [
    {
     "name": "stdout",
     "output_type": "stream",
     "text": [
      "Checkpoint uri: s3://swati-ml-sagemaker/iris/checkpoints/xgboost-iris-v1\n"
     ]
    }
   ],
   "source": [
    "use_spot_instances = True\n",
    "max_run = 3600 # in seconds\n",
    "max_wait = 7200 if use_spot_instances else None # in seconds\n",
    "\n",
    "job_name = 'xgboost-iris-v1'\n",
    "\n",
    "checkpoint_s3_uri = None\n",
    "\n",
    "if use_spot_instances:\n",
    "    checkpoint_s3_uri = f's3://{bucket_name}/iris/checkpoints/{job_name}'\n",
    "    \n",
    "print (f'Checkpoint uri: {checkpoint_s3_uri}') "
   ]
  },
  {
   "cell_type": "code",
   "execution_count": 7,
   "id": "539e72e4",
   "metadata": {},
   "outputs": [
    {
     "name": "stdout",
     "output_type": "stream",
     "text": [
      "arn:aws:iam::637423580352:role/service-role/AmazonSageMaker-ExecutionRole-20240325T165146\n"
     ]
    }
   ],
   "source": [
    "sess = sagemaker.Session()\n",
    "role = get_execution_role()\n",
    "print(role)"
   ]
  },
  {
   "cell_type": "code",
   "execution_count": 8,
   "id": "57749eb5",
   "metadata": {},
   "outputs": [
    {
     "name": "stdout",
     "output_type": "stream",
     "text": [
      "Using XGBoost Container 683313688378.dkr.ecr.us-east-1.amazonaws.com/sagemaker-xgboost:1.2-2\n"
     ]
    }
   ],
   "source": [
    "container = sagemaker.image_uris.retrieve(\"xgboost\",sess.boto_region_name,version=\"1.2-2\")\n",
    "\n",
    "print (f'Using XGBoost Container {container}')"
   ]
  },
  {
   "cell_type": "markdown",
   "id": "cbe4a5af",
   "metadata": {},
   "source": [
    "### Build Model"
   ]
  },
  {
   "cell_type": "code",
   "execution_count": 9,
   "id": "5734f28d",
   "metadata": {},
   "outputs": [],
   "source": [
    "estimator = sagemaker.estimator.Estimator(\n",
    "    container,\n",
    "    role,\n",
    "    instance_count=1,\n",
    "    instance_type='ml.m5.xlarge',\n",
    "    output_path=s3_model_output_location,\n",
    "    sagemaker_session=sess,\n",
    "    base_job_name = job_name,\n",
    "    use_spot_instances=use_spot_instances,\n",
    "    max_run=max_run,\n",
    "    max_wait=max_wait,\n",
    "    checkpoint_s3_uri=checkpoint_s3_uri)"
   ]
  },
  {
   "cell_type": "code",
   "execution_count": 10,
   "id": "d6c9ec89",
   "metadata": {},
   "outputs": [],
   "source": [
    "estimator.set_hyperparameters(max_depth=5,\n",
    "                              objective=\"multi:softmax\",\n",
    "                              eval_metric=\"mlogloss\",\n",
    "                              num_class=3,\n",
    "                              num_round=100,\n",
    "                              early_stopping_rounds=10)"
   ]
  },
  {
   "cell_type": "code",
   "execution_count": 11,
   "id": "11f6579f",
   "metadata": {},
   "outputs": [
    {
     "data": {
      "text/plain": [
       "{'max_depth': 5,\n",
       " 'objective': 'multi:softmax',\n",
       " 'eval_metric': 'mlogloss',\n",
       " 'num_class': 3,\n",
       " 'num_round': 100,\n",
       " 'early_stopping_rounds': 10}"
      ]
     },
     "execution_count": 11,
     "metadata": {},
     "output_type": "execute_result"
    }
   ],
   "source": [
    "estimator.hyperparameters()"
   ]
  },
  {
   "cell_type": "code",
   "execution_count": 12,
   "id": "41baf4b0",
   "metadata": {},
   "outputs": [],
   "source": [
    "# content type can be libsvm or csv for XGBoost\n",
    "training_input_config = sagemaker.session.TrainingInput(\n",
    "    s3_data=s3_training_file_location,\n",
    "    content_type='csv',\n",
    "    s3_data_type='S3Prefix')\n",
    "\n",
    "validation_input_config = sagemaker.session.TrainingInput(\n",
    "    s3_data=s3_validation_file_location,\n",
    "    content_type='csv',\n",
    "    s3_data_type='S3Prefix'\n",
    ")\n",
    "\n",
    "data_channels = {'train': training_input_config, 'validation': validation_input_config}"
   ]
  },
  {
   "cell_type": "code",
   "execution_count": 13,
   "id": "0e1111d9",
   "metadata": {},
   "outputs": [
    {
     "name": "stdout",
     "output_type": "stream",
     "text": [
      "{'DataSource': {'S3DataSource': {'S3DataType': 'S3Prefix', 'S3Uri': 's3://swati-ml-sagemaker/iris/iris_train.csv', 'S3DataDistributionType': 'FullyReplicated'}}, 'ContentType': 'csv'}\n",
      "{'DataSource': {'S3DataSource': {'S3DataType': 'S3Prefix', 'S3Uri': 's3://swati-ml-sagemaker/iris/iris_validation.csv', 'S3DataDistributionType': 'FullyReplicated'}}, 'ContentType': 'csv'}\n"
     ]
    }
   ],
   "source": [
    "print(training_input_config.config)\n",
    "print(validation_input_config.config)"
   ]
  },
  {
   "cell_type": "markdown",
   "id": "459900e4",
   "metadata": {},
   "source": [
    "### Train model"
   ]
  },
  {
   "cell_type": "code",
   "execution_count": 14,
   "id": "26bba55c",
   "metadata": {},
   "outputs": [
    {
     "name": "stderr",
     "output_type": "stream",
     "text": [
      "INFO:sagemaker:Creating training-job with name: xgboost-iris-v1-2024-05-19-17-19-00-521\n"
     ]
    },
    {
     "name": "stdout",
     "output_type": "stream",
     "text": [
      "2024-05-19 17:19:00 Starting - Starting the training job...\n",
      "2024-05-19 17:19:16 Starting - Preparing the instances for training...\n",
      "2024-05-19 17:19:43 Downloading - Downloading input data...\n",
      "2024-05-19 17:20:04 Downloading - Downloading the training image...\n",
      "2024-05-19 17:20:44 Training - Training image download completed. Training in progress..\u001b[34m[2024-05-19 17:20:54.395 ip-10-0-167-228.ec2.internal:7 INFO utils.py:27] RULE_JOB_STOP_SIGNAL_FILENAME: None\u001b[0m\n",
      "\u001b[34m[2024-05-19:17:20:54:INFO] Imported framework sagemaker_xgboost_container.training\u001b[0m\n",
      "\u001b[34m[2024-05-19:17:20:54:INFO] Failed to parse hyperparameter eval_metric value mlogloss to Json.\u001b[0m\n",
      "\u001b[34mReturning the value itself\u001b[0m\n",
      "\u001b[34m[2024-05-19:17:20:54:INFO] Failed to parse hyperparameter objective value multi:softmax to Json.\u001b[0m\n",
      "\u001b[34mReturning the value itself\u001b[0m\n",
      "\u001b[34m[2024-05-19:17:20:54:INFO] No GPUs detected (normal if no gpus installed)\u001b[0m\n",
      "\u001b[34m[2024-05-19:17:20:54:INFO] Running XGBoost Sagemaker in algorithm mode\u001b[0m\n",
      "\u001b[34m[2024-05-19:17:20:54:INFO] Determined delimiter of CSV input is ','\u001b[0m\n",
      "\u001b[34m[2024-05-19:17:20:54:INFO] Determined delimiter of CSV input is ','\u001b[0m\n",
      "\u001b[34m[2024-05-19:17:20:54:INFO] Determined delimiter of CSV input is ','\u001b[0m\n",
      "\u001b[34m[2024-05-19:17:20:54:INFO] Determined delimiter of CSV input is ','\u001b[0m\n",
      "\u001b[34m[2024-05-19:17:20:54:INFO] Single node training.\u001b[0m\n",
      "\u001b[34m[2024-05-19:17:20:54:INFO] Train matrix has 105 rows and 4 columns\u001b[0m\n",
      "\u001b[34m[2024-05-19:17:20:54:INFO] Validation matrix has 45 rows\u001b[0m\n",
      "\u001b[34m[2024-05-19 17:20:54.475 ip-10-0-167-228.ec2.internal:7 INFO json_config.py:91] Creating hook from json_config at /opt/ml/input/config/debughookconfig.json.\u001b[0m\n",
      "\u001b[34m[2024-05-19 17:20:54.476 ip-10-0-167-228.ec2.internal:7 INFO hook.py:201] tensorboard_dir has not been set for the hook. SMDebug will not be exporting tensorboard summaries.\u001b[0m\n",
      "\u001b[34m[2024-05-19 17:20:54.476 ip-10-0-167-228.ec2.internal:7 INFO profiler_config_parser.py:102] User has disabled profiler.\u001b[0m\n",
      "\u001b[34m[2024-05-19 17:20:54.476 ip-10-0-167-228.ec2.internal:7 INFO hook.py:255] Saving to /opt/ml/output/tensors\u001b[0m\n",
      "\u001b[34m[2024-05-19:17:20:54:INFO] Debug hook created from config\u001b[0m\n",
      "\u001b[34m[0]#011train-mlogloss:0.73876#011validation-mlogloss:0.74994\u001b[0m\n",
      "\u001b[34m[2024-05-19 17:20:54.480 ip-10-0-167-228.ec2.internal:7 INFO hook.py:423] Monitoring the collections: metrics\u001b[0m\n",
      "\u001b[34m[2024-05-19 17:20:54.482 ip-10-0-167-228.ec2.internal:7 INFO hook.py:486] Hook is writing from the hook with pid: 7\u001b[0m\n",
      "\u001b[34m[1]#011train-mlogloss:0.52787#011validation-mlogloss:0.55401\u001b[0m\n",
      "\u001b[34m[2]#011train-mlogloss:0.38960#011validation-mlogloss:0.42612\u001b[0m\n",
      "\u001b[34m[3]#011train-mlogloss:0.29429#011validation-mlogloss:0.34328\u001b[0m\n",
      "\u001b[34m[4]#011train-mlogloss:0.22736#011validation-mlogloss:0.29000\u001b[0m\n",
      "\u001b[34m[5]#011train-mlogloss:0.17920#011validation-mlogloss:0.24961\u001b[0m\n",
      "\u001b[34m[6]#011train-mlogloss:0.14403#011validation-mlogloss:0.22234\u001b[0m\n",
      "\u001b[34m[7]#011train-mlogloss:0.11664#011validation-mlogloss:0.20338\u001b[0m\n",
      "\u001b[34m[8]#011train-mlogloss:0.09668#011validation-mlogloss:0.18999\u001b[0m\n",
      "\u001b[34m[9]#011train-mlogloss:0.08128#011validation-mlogloss:0.18190\u001b[0m\n",
      "\u001b[34m[10]#011train-mlogloss:0.06783#011validation-mlogloss:0.17996\u001b[0m\n",
      "\u001b[34m[11]#011train-mlogloss:0.05794#011validation-mlogloss:0.18029\u001b[0m\n",
      "\u001b[34m[12]#011train-mlogloss:0.05011#011validation-mlogloss:0.18306\u001b[0m\n",
      "\u001b[34m[13]#011train-mlogloss:0.04428#011validation-mlogloss:0.18471\u001b[0m\n",
      "\u001b[34m[14]#011train-mlogloss:0.03993#011validation-mlogloss:0.18693\u001b[0m\n",
      "\u001b[34m[15]#011train-mlogloss:0.03615#011validation-mlogloss:0.18553\u001b[0m\n",
      "\u001b[34m[16]#011train-mlogloss:0.03310#011validation-mlogloss:0.18571\u001b[0m\n",
      "\u001b[34m[17]#011train-mlogloss:0.03065#011validation-mlogloss:0.18615\u001b[0m\n",
      "\u001b[34m[18]#011train-mlogloss:0.02874#011validation-mlogloss:0.18930\u001b[0m\n",
      "\u001b[34m[19]#011train-mlogloss:0.02739#011validation-mlogloss:0.18989\u001b[0m\n",
      "\u001b[34m[20]#011train-mlogloss:0.02639#011validation-mlogloss:0.19251\u001b[0m\n",
      "\n",
      "2024-05-19 17:21:14 Uploading - Uploading generated training model\n",
      "2024-05-19 17:21:14 Completed - Training job completed\n",
      "Training seconds: 91\n",
      "Billable seconds: 45\n",
      "Managed Spot Training savings: 50.5%\n"
     ]
    }
   ],
   "source": [
    "estimator.fit(data_channels)"
   ]
  },
  {
   "cell_type": "markdown",
   "id": "90db9434",
   "metadata": {},
   "source": [
    "### Deploy Model"
   ]
  },
  {
   "cell_type": "code",
   "execution_count": 15,
   "id": "1f2a726c",
   "metadata": {},
   "outputs": [
    {
     "name": "stderr",
     "output_type": "stream",
     "text": [
      "INFO:sagemaker:Creating model with name: xgboost-iris-v1-2024-05-19-17-22-13-111\n",
      "INFO:sagemaker:Creating endpoint-config with name xgboost-iris-v1\n",
      "INFO:sagemaker:Creating endpoint with name xgboost-iris-v1\n"
     ]
    },
    {
     "name": "stdout",
     "output_type": "stream",
     "text": [
      "------!"
     ]
    }
   ],
   "source": [
    "predictor = estimator.deploy(initial_instance_count=1,\n",
    "                             instance_type='ml.m5.xlarge',\n",
    "                             endpoint_name = job_name)"
   ]
  },
  {
   "cell_type": "markdown",
   "id": "5317de82",
   "metadata": {},
   "source": [
    "### Run predictions"
   ]
  },
  {
   "cell_type": "code",
   "execution_count": 16,
   "id": "9e40ad0d",
   "metadata": {},
   "outputs": [
    {
     "data": {
      "text/plain": [
       "b'0.0\\n0.0\\n1.0\\n'"
      ]
     },
     "execution_count": 16,
     "metadata": {},
     "output_type": "execute_result"
    }
   ],
   "source": [
    "from sagemaker.serializers import CSVSerializer\n",
    "predictor.serializer = CSVSerializer()\n",
    "predictor.predict([[4.8,3.4,1.6,0.2],[4.8,3.4,1.6,0.2],[5.8,2.7,4.1,1.0]])"
   ]
  },
  {
   "cell_type": "code",
   "execution_count": null,
   "id": "1868a410",
   "metadata": {},
   "outputs": [],
   "source": []
  }
 ],
 "metadata": {
  "kernelspec": {
   "display_name": "conda_python3",
   "language": "python",
   "name": "conda_python3"
  },
  "language_info": {
   "codemirror_mode": {
    "name": "ipython",
    "version": 3
   },
   "file_extension": ".py",
   "mimetype": "text/x-python",
   "name": "python",
   "nbconvert_exporter": "python",
   "pygments_lexer": "ipython3",
   "version": "3.10.14"
  }
 },
 "nbformat": 4,
 "nbformat_minor": 5
}
